{
  "cells": [
    {
      "cell_type": "markdown",
      "metadata": {
        "id": "KTFm2Hwu3UyV"
      },
      "source": [
        "The Following is an attempt to replicate the findings of the 2015 paper [***Distilling the Knowledge in a Neural Network***](https://arxiv.org/pdf/1503.02531) , I have done it for only the first experiment with MNIST data. There are 2 other experiments which you can read in the paper to look at the results which provides that knowledge distillation happens in neural network."
      ]
    },
    {
      "cell_type": "markdown",
      "metadata": {
        "id": "KG1thRN_4WRO"
      },
      "source": [
        "##What is Knowledge Distillation ?\n",
        "\n",
        "Knowledge distillation is a technique where a small, fast neural network (the \"student\") is trained to mimic the behavior of a large, powerful, and slow network (the \"teacher\").\n",
        "\n",
        "###An analogy\n",
        "Imagine you have two people:\n",
        "\n",
        "**The Teacher:** A world-class coffee expert who can taste a coffee and not only identify the country it's from but also guess the region, the roast type, and detect subtle notes of chocolate or berry.\n",
        "\n",
        "**The Student:** A new barista in training.\n",
        "\n",
        "Normal Training would be like just telling the student the right answer: \"This coffee is from Colombia.\" The student only learns that one fact.\n",
        "\n",
        "**Knowledge Distillation** is like having the expert tell the student their full thought process: \"This is very likely from Colombia, specifically the Huila region. It's a medium roast, and I'm getting strong notes of dark chocolate and a hint of cherry.\"\n",
        "\n",
        "*The student* learns much more from the expert's detailed description than from just the simple answer. Even though the student is less experienced, they learn to think like the expert and can make much better, more nuanced guesses on their own.\n"
      ]
    },
    {
      "cell_type": "code",
      "execution_count": null,
      "metadata": {
        "id": "vAUV1O1qybSr"
      },
      "outputs": [],
      "source": [
        "import torch\n",
        "from torch import nn\n",
        "import torch.nn.functional as F\n",
        "import torch.optim as optim\n",
        "from torch.utils.data import DataLoader\n",
        "import torchvision\n",
        "from torchvision import transforms\n",
        "import numpy as np\n",
        "import pandas as pd\n",
        "device = torch.device(\"cuda\" if torch.cuda.is_available() else \"cpu\")"
      ]
    },
    {
      "cell_type": "code",
      "execution_count": null,
      "metadata": {
        "colab": {
          "base_uri": "https://localhost:8080/"
        },
        "id": "-tYcG4GJyc4f",
        "outputId": "ab2e0ea6-cf74-47d4-82b6-20202510c488"
      },
      "outputs": [
        {
          "name": "stdout",
          "output_type": "stream",
          "text": [
            "Train data size: 60000\n",
            "Test data size: 10000\n",
            "Train data shape: torch.Size([1, 28, 28])\n",
            "Test data shape: torch.Size([1, 28, 28])\n",
            "tensor([[[-0.4242, -0.4242, -0.4242, -0.4242, -0.4242, -0.4242, -0.4242,\n",
            "          -0.4242, -0.4242, -0.4242, -0.4242, -0.4242, -0.4242, -0.4242,\n",
            "          -0.4242, -0.4242, -0.4242, -0.4242, -0.4242, -0.4242, -0.4242,\n",
            "          -0.4242, -0.4242, -0.4242, -0.4242, -0.4242, -0.4242, -0.4242],\n",
            "         [-0.4242, -0.4242, -0.4242, -0.4242, -0.4242, -0.4242, -0.4242,\n",
            "          -0.4242, -0.4242, -0.4242, -0.4242, -0.4242, -0.4242, -0.4242,\n",
            "          -0.4242, -0.4242, -0.4242, -0.4242, -0.4242, -0.4242, -0.4242,\n",
            "          -0.4242, -0.4242, -0.4242, -0.4242, -0.4242, -0.4242, -0.4242],\n",
            "         [-0.4242, -0.4242, -0.4242, -0.4242, -0.4242, -0.4242, -0.4242,\n",
            "          -0.4242, -0.4242, -0.4242, -0.4242, -0.4242, -0.4242, -0.4242,\n",
            "          -0.4242, -0.4242, -0.4242, -0.4242, -0.4242, -0.4242, -0.4242,\n",
            "          -0.4242, -0.4242, -0.4242, -0.4242, -0.4242, -0.4242, -0.4242],\n",
            "         [-0.4242, -0.4242, -0.4242, -0.4242, -0.4242, -0.4242, -0.4242,\n",
            "          -0.4242, -0.4242, -0.4242, -0.4242, -0.4242, -0.4242, -0.4242,\n",
            "          -0.4242, -0.4242, -0.4242, -0.4242, -0.4242, -0.4242, -0.4242,\n",
            "          -0.4242, -0.4242, -0.4242, -0.4242, -0.4242, -0.4242, -0.4242],\n",
            "         [-0.4242, -0.4242, -0.4242, -0.4242, -0.4242, -0.4242, -0.4242,\n",
            "          -0.4242, -0.4242, -0.4242, -0.4242, -0.4242, -0.4242, -0.4242,\n",
            "          -0.4242, -0.4242, -0.4242, -0.4242, -0.4242, -0.4242, -0.4242,\n",
            "          -0.4242, -0.4242, -0.4242, -0.4242, -0.4242, -0.4242, -0.4242],\n",
            "         [-0.4242, -0.4242, -0.4242, -0.4242, -0.4242, -0.4242, -0.4242,\n",
            "          -0.4242, -0.4242, -0.4242, -0.4242, -0.4242, -0.3860, -0.1951,\n",
            "          -0.1951, -0.1951,  1.1795,  1.3068,  1.8032, -0.0933,  1.6887,\n",
            "           2.8215,  2.7197,  1.1923, -0.4242, -0.4242, -0.4242, -0.4242],\n",
            "         [-0.4242, -0.4242, -0.4242, -0.4242, -0.4242, -0.4242, -0.4242,\n",
            "          -0.4242, -0.0424,  0.0340,  0.7722,  1.5359,  1.7396,  2.7960,\n",
            "           2.7960,  2.7960,  2.7960,  2.7960,  2.4396,  1.7650,  2.7960,\n",
            "           2.6560,  2.0578,  0.3904, -0.4242, -0.4242, -0.4242, -0.4242],\n",
            "         [-0.4242, -0.4242, -0.4242, -0.4242, -0.4242, -0.4242, -0.4242,\n",
            "           0.1995,  2.6051,  2.7960,  2.7960,  2.7960,  2.7960,  2.7960,\n",
            "           2.7960,  2.7960,  2.7960,  2.7706,  0.7595,  0.6195,  0.6195,\n",
            "           0.2886,  0.0722, -0.4242, -0.4242, -0.4242, -0.4242, -0.4242],\n",
            "         [-0.4242, -0.4242, -0.4242, -0.4242, -0.4242, -0.4242, -0.4242,\n",
            "          -0.1951,  2.3633,  2.7960,  2.7960,  2.7960,  2.7960,  2.7960,\n",
            "           2.0960,  1.8923,  2.7197,  2.6433, -0.4242, -0.4242, -0.4242,\n",
            "          -0.4242, -0.4242, -0.4242, -0.4242, -0.4242, -0.4242, -0.4242],\n",
            "         [-0.4242, -0.4242, -0.4242, -0.4242, -0.4242, -0.4242, -0.4242,\n",
            "          -0.4242,  0.5940,  1.5614,  0.9377,  2.7960,  2.7960,  2.1851,\n",
            "          -0.2842, -0.4242,  0.1231,  1.5359, -0.4242, -0.4242, -0.4242,\n",
            "          -0.4242, -0.4242, -0.4242, -0.4242, -0.4242, -0.4242, -0.4242],\n",
            "         [-0.4242, -0.4242, -0.4242, -0.4242, -0.4242, -0.4242, -0.4242,\n",
            "          -0.4242, -0.4242, -0.2460, -0.4115,  1.5359,  2.7960,  0.7213,\n",
            "          -0.4242, -0.4242, -0.4242, -0.4242, -0.4242, -0.4242, -0.4242,\n",
            "          -0.4242, -0.4242, -0.4242, -0.4242, -0.4242, -0.4242, -0.4242],\n",
            "         [-0.4242, -0.4242, -0.4242, -0.4242, -0.4242, -0.4242, -0.4242,\n",
            "          -0.4242, -0.4242, -0.4242, -0.4242,  1.3450,  2.7960,  1.9942,\n",
            "          -0.3988, -0.4242, -0.4242, -0.4242, -0.4242, -0.4242, -0.4242,\n",
            "          -0.4242, -0.4242, -0.4242, -0.4242, -0.4242, -0.4242, -0.4242],\n",
            "         [-0.4242, -0.4242, -0.4242, -0.4242, -0.4242, -0.4242, -0.4242,\n",
            "          -0.4242, -0.4242, -0.4242, -0.4242, -0.2842,  1.9942,  2.7960,\n",
            "           0.4668, -0.4242, -0.4242, -0.4242, -0.4242, -0.4242, -0.4242,\n",
            "          -0.4242, -0.4242, -0.4242, -0.4242, -0.4242, -0.4242, -0.4242],\n",
            "         [-0.4242, -0.4242, -0.4242, -0.4242, -0.4242, -0.4242, -0.4242,\n",
            "          -0.4242, -0.4242, -0.4242, -0.4242, -0.4242,  0.0213,  2.6433,\n",
            "           2.4396,  1.6123,  0.9504, -0.4115, -0.4242, -0.4242, -0.4242,\n",
            "          -0.4242, -0.4242, -0.4242, -0.4242, -0.4242, -0.4242, -0.4242],\n",
            "         [-0.4242, -0.4242, -0.4242, -0.4242, -0.4242, -0.4242, -0.4242,\n",
            "          -0.4242, -0.4242, -0.4242, -0.4242, -0.4242, -0.4242,  0.6068,\n",
            "           2.6306,  2.7960,  2.7960,  1.0904, -0.1060, -0.4242, -0.4242,\n",
            "          -0.4242, -0.4242, -0.4242, -0.4242, -0.4242, -0.4242, -0.4242],\n",
            "         [-0.4242, -0.4242, -0.4242, -0.4242, -0.4242, -0.4242, -0.4242,\n",
            "          -0.4242, -0.4242, -0.4242, -0.4242, -0.4242, -0.4242, -0.4242,\n",
            "           0.1486,  1.9432,  2.7960,  2.7960,  1.4850, -0.0806, -0.4242,\n",
            "          -0.4242, -0.4242, -0.4242, -0.4242, -0.4242, -0.4242, -0.4242],\n",
            "         [-0.4242, -0.4242, -0.4242, -0.4242, -0.4242, -0.4242, -0.4242,\n",
            "          -0.4242, -0.4242, -0.4242, -0.4242, -0.4242, -0.4242, -0.4242,\n",
            "          -0.4242, -0.2206,  0.7595,  2.7833,  2.7960,  1.9560, -0.4242,\n",
            "          -0.4242, -0.4242, -0.4242, -0.4242, -0.4242, -0.4242, -0.4242],\n",
            "         [-0.4242, -0.4242, -0.4242, -0.4242, -0.4242, -0.4242, -0.4242,\n",
            "          -0.4242, -0.4242, -0.4242, -0.4242, -0.4242, -0.4242, -0.4242,\n",
            "          -0.4242, -0.4242, -0.4242,  2.7451,  2.7960,  2.7451,  0.3904,\n",
            "          -0.4242, -0.4242, -0.4242, -0.4242, -0.4242, -0.4242, -0.4242],\n",
            "         [-0.4242, -0.4242, -0.4242, -0.4242, -0.4242, -0.4242, -0.4242,\n",
            "          -0.4242, -0.4242, -0.4242, -0.4242, -0.4242, -0.4242, -0.4242,\n",
            "           0.1613,  1.2305,  1.9051,  2.7960,  2.7960,  2.2105, -0.3988,\n",
            "          -0.4242, -0.4242, -0.4242, -0.4242, -0.4242, -0.4242, -0.4242],\n",
            "         [-0.4242, -0.4242, -0.4242, -0.4242, -0.4242, -0.4242, -0.4242,\n",
            "          -0.4242, -0.4242, -0.4242, -0.4242, -0.4242,  0.0722,  1.4596,\n",
            "           2.4906,  2.7960,  2.7960,  2.7960,  2.7578,  1.8923, -0.4242,\n",
            "          -0.4242, -0.4242, -0.4242, -0.4242, -0.4242, -0.4242, -0.4242],\n",
            "         [-0.4242, -0.4242, -0.4242, -0.4242, -0.4242, -0.4242, -0.4242,\n",
            "          -0.4242, -0.4242, -0.4242, -0.1187,  1.0268,  2.3887,  2.7960,\n",
            "           2.7960,  2.7960,  2.7960,  2.1342,  0.5686, -0.4242, -0.4242,\n",
            "          -0.4242, -0.4242, -0.4242, -0.4242, -0.4242, -0.4242, -0.4242],\n",
            "         [-0.4242, -0.4242, -0.4242, -0.4242, -0.4242, -0.4242, -0.4242,\n",
            "          -0.4242, -0.1315,  0.4159,  2.2869,  2.7960,  2.7960,  2.7960,\n",
            "           2.7960,  2.0960,  0.6068, -0.3988, -0.4242, -0.4242, -0.4242,\n",
            "          -0.4242, -0.4242, -0.4242, -0.4242, -0.4242, -0.4242, -0.4242],\n",
            "         [-0.4242, -0.4242, -0.4242, -0.4242, -0.4242, -0.4242, -0.1951,\n",
            "           1.7523,  2.3633,  2.7960,  2.7960,  2.7960,  2.7960,  2.0578,\n",
            "           0.5940, -0.3097, -0.4242, -0.4242, -0.4242, -0.4242, -0.4242,\n",
            "          -0.4242, -0.4242, -0.4242, -0.4242, -0.4242, -0.4242, -0.4242],\n",
            "         [-0.4242, -0.4242, -0.4242, -0.4242,  0.2758,  1.7650,  2.4524,\n",
            "           2.7960,  2.7960,  2.7960,  2.7960,  2.6815,  1.2686, -0.2842,\n",
            "          -0.4242, -0.4242, -0.4242, -0.4242, -0.4242, -0.4242, -0.4242,\n",
            "          -0.4242, -0.4242, -0.4242, -0.4242, -0.4242, -0.4242, -0.4242],\n",
            "         [-0.4242, -0.4242, -0.4242, -0.4242,  1.3068,  2.7960,  2.7960,\n",
            "           2.7960,  2.2742,  1.2941,  1.2559, -0.2206, -0.4242, -0.4242,\n",
            "          -0.4242, -0.4242, -0.4242, -0.4242, -0.4242, -0.4242, -0.4242,\n",
            "          -0.4242, -0.4242, -0.4242, -0.4242, -0.4242, -0.4242, -0.4242],\n",
            "         [-0.4242, -0.4242, -0.4242, -0.4242, -0.4242, -0.4242, -0.4242,\n",
            "          -0.4242, -0.4242, -0.4242, -0.4242, -0.4242, -0.4242, -0.4242,\n",
            "          -0.4242, -0.4242, -0.4242, -0.4242, -0.4242, -0.4242, -0.4242,\n",
            "          -0.4242, -0.4242, -0.4242, -0.4242, -0.4242, -0.4242, -0.4242],\n",
            "         [-0.4242, -0.4242, -0.4242, -0.4242, -0.4242, -0.4242, -0.4242,\n",
            "          -0.4242, -0.4242, -0.4242, -0.4242, -0.4242, -0.4242, -0.4242,\n",
            "          -0.4242, -0.4242, -0.4242, -0.4242, -0.4242, -0.4242, -0.4242,\n",
            "          -0.4242, -0.4242, -0.4242, -0.4242, -0.4242, -0.4242, -0.4242],\n",
            "         [-0.4242, -0.4242, -0.4242, -0.4242, -0.4242, -0.4242, -0.4242,\n",
            "          -0.4242, -0.4242, -0.4242, -0.4242, -0.4242, -0.4242, -0.4242,\n",
            "          -0.4242, -0.4242, -0.4242, -0.4242, -0.4242, -0.4242, -0.4242,\n",
            "          -0.4242, -0.4242, -0.4242, -0.4242, -0.4242, -0.4242, -0.4242]]])\n"
          ]
        }
      ],
      "source": [
        "# Loading the MNIST data set (Contains Image tensor 28*28 with hard labels)\n",
        "transform = transforms.Compose([\n",
        "    transforms.ToTensor(),\n",
        "    transforms.Normalize((0.1307,), (0.3081,))\n",
        "])\n",
        "train_data = torchvision.datasets.MNIST(root='./data', train=True, download=True, transform=transform)\n",
        "test_data = torchvision.datasets.MNIST(root='./data', train=False, download=True, transform=transform)\n",
        "print(f'Train data size: {len(train_data)}')\n",
        "print(f'Test data size: {len(test_data)}')\n",
        "print(f'Train data shape: {train_data[0][0].shape}')\n",
        "print(f'Test data shape: {test_data[0][0].shape}')\n",
        "print(train_data[0][0])"
      ]
    },
    {
      "cell_type": "code",
      "execution_count": null,
      "metadata": {
        "id": "B_zqt8Dmyc7T"
      },
      "outputs": [],
      "source": [
        "# The Teacher Neural Network with 784 -> 1200 -> 1200 -> 10 Neurons in it. (In the original paper they added dropout layers for better which i have skipped here)\n",
        "class Teachernet(nn.Module):\n",
        "    def __init__(self):\n",
        "        super(Teachernet, self).__init__()\n",
        "        self.model = nn.Sequential(\n",
        "            nn.Linear(784, 1200),\n",
        "            nn.ReLU(),\n",
        "            nn.Linear(1200, 1200),\n",
        "            nn.ReLU(),\n",
        "            nn.Linear(1200, 10)\n",
        "        )\n",
        "\n",
        "    def forward(self, x):\n",
        "        x = x.view(x.size(0), -1)\n",
        "        return self.model(x)"
      ]
    },
    {
      "cell_type": "code",
      "execution_count": null,
      "metadata": {
        "id": "BkG6dledyc-s"
      },
      "outputs": [],
      "source": [
        "# Training Loop for the teacher model\n",
        "def train_teacher(model, train_loader, criterion, optimizer, epochs):\n",
        "    model.train()\n",
        "    for epoch in range(epochs):\n",
        "        total_loss = 0\n",
        "        for images, labels in train_loader:\n",
        "            optimizer.zero_grad()\n",
        "            outputs = model(images)\n",
        "            loss = criterion(outputs, labels)\n",
        "            loss.backward()\n",
        "            optimizer.step()\n",
        "            total_loss += loss.item()\n",
        "        print(f\"Epoch [{epoch+1}/{epochs}], Loss: {total_loss/len(train_loader):.4f}\")"
      ]
    },
    {
      "cell_type": "code",
      "execution_count": null,
      "metadata": {
        "colab": {
          "base_uri": "https://localhost:8080/"
        },
        "id": "_dguXq-9ydBX",
        "outputId": "080dc86c-410d-4d43-9b25-f9393f06d20f"
      },
      "outputs": [
        {
          "name": "stdout",
          "output_type": "stream",
          "text": [
            "Epoch [1/1], Loss: 0.1936\n"
          ]
        }
      ],
      "source": [
        "# Training Teacher Model using cross entropy loss and a learnig rate of 0.001 and only 1 epoch\n",
        "teacher_model = Teachernet().to(device)\n",
        "criterion = nn.CrossEntropyLoss()\n",
        "optimizer = optim.Adam(teacher_model.parameters(), lr=0.001)\n",
        "train_loader = DataLoader(train_data, batch_size=64, shuffle=True)\n",
        "train_teacher(teacher_model, train_loader, criterion, optimizer, epochs=1)"
      ]
    },
    {
      "cell_type": "code",
      "execution_count": null,
      "metadata": {
        "colab": {
          "base_uri": "https://localhost:8080/"
        },
        "id": "9pS2BdCRydEL",
        "outputId": "f704cbab-8641-4ee5-d965-98cd20c05b37"
      },
      "outputs": [
        {
          "name": "stdout",
          "output_type": "stream",
          "text": [
            "Accuracy of the model on the 10000 test images: 96.87 %\n"
          ]
        }
      ],
      "source": [
        "# Evaluation function to test any model against the 10000 test cases of the MNIST data set\n",
        "def evaluate(model,test_data):\n",
        "    model.eval()\n",
        "    test_loader = DataLoader(test_data,batch_size=1000,shuffle=False)\n",
        "    correct=0\n",
        "    total=0\n",
        "    with torch.no_grad():\n",
        "        for images,labels in test_loader:\n",
        "            images, labels = images.to(device), labels.to(device)\n",
        "            outputs = model(images)\n",
        "            _, predicted = torch.max(outputs.data, 1)\n",
        "            total += labels.size(0)\n",
        "            correct += (predicted == labels).sum().item()\n",
        "    accuracy = 100 * correct / total\n",
        "    print(f'Accuracy of the model on the 10000 test images: {accuracy} %')\n",
        "    return accuracy\n",
        "# Teacher net evaluation after training\n",
        "teacher_accuracy = evaluate(teacher_model, test_data)"
      ]
    },
    {
      "cell_type": "code",
      "execution_count": null,
      "metadata": {
        "id": "4VD0GkMPydHG"
      },
      "outputs": [],
      "source": [
        "# The Base Neural Network with 784 -> 800 -> 800 -> 10 Neurons in it.\n",
        "class Basestudentnet(nn.Module):\n",
        "    def __init__(self):\n",
        "        super(Basestudentnet, self).__init__()\n",
        "        self.model = nn.Sequential(\n",
        "            nn.Linear(784, 800),\n",
        "            nn.ReLU(),\n",
        "            nn.Linear(800, 800),\n",
        "            nn.ReLU(),\n",
        "            nn.Linear(800, 10)\n",
        "        )\n",
        "\n",
        "    def forward(self, x):\n",
        "        x = x.view(x.size(0), -1)\n",
        "        return self.model(x)"
      ]
    },
    {
      "cell_type": "code",
      "execution_count": null,
      "metadata": {
        "id": "ERJ3X0ANydJr"
      },
      "outputs": [],
      "source": [
        "# A replica of Base Neural Network with 784 -> 800 -> 800 -> 10 Neurons in it. This is the model to be trained on tecahers soft output and hard labels\n",
        "class Distilledstudentnet(nn.Module):\n",
        "    def __init__(self):\n",
        "        super(Distilledstudentnet, self).__init__()\n",
        "        self.model = nn.Sequential(\n",
        "            nn.Linear(784, 800),\n",
        "            nn.ReLU(),\n",
        "            nn.Linear(800, 800),\n",
        "            nn.ReLU(),\n",
        "            nn.Linear(800, 10)\n",
        "        )\n",
        "\n",
        "    def forward(self, x):\n",
        "        x = x.view(x.size(0), -1)\n",
        "        return self.model(x)"
      ]
    },
    {
      "cell_type": "code",
      "execution_count": null,
      "metadata": {
        "colab": {
          "base_uri": "https://localhost:8080/"
        },
        "id": "hGLKOh2TydMh",
        "outputId": "634d01bc-ac2a-4678-902a-0d8774f98d4a"
      },
      "outputs": [
        {
          "name": "stdout",
          "output_type": "stream",
          "text": [
            "Epoch [1/1], Loss: 0.1929\n"
          ]
        }
      ],
      "source": [
        "# Training the base student model with the teacher training loop since both only differ in number of neurons in the hidden layer\n",
        "base_student_model = Basestudentnet().to(device)\n",
        "criterion = nn.CrossEntropyLoss()\n",
        "optimizer = optim.Adam(base_student_model.parameters(), lr=0.001)\n",
        "train_loader = DataLoader(train_data, batch_size=64, shuffle=True)\n",
        "train_teacher(base_student_model, train_loader, criterion, optimizer, epochs=1)"
      ]
    },
    {
      "cell_type": "code",
      "execution_count": null,
      "metadata": {
        "colab": {
          "base_uri": "https://localhost:8080/"
        },
        "id": "09JgKbe-ydP-",
        "outputId": "28ddfd58-65c3-4356-d7d4-8c22e749ca0e"
      },
      "outputs": [
        {
          "name": "stdout",
          "output_type": "stream",
          "text": [
            "Accuracy of the model on the 10000 test images: 96.15 %\n"
          ]
        }
      ],
      "source": [
        "# The evaluation of the base student net on the standard MNIST test data\n",
        "base_student_accuracy = evaluate(base_student_model, test_data)"
      ]
    },
    {
      "cell_type": "code",
      "execution_count": null,
      "metadata": {
        "colab": {
          "base_uri": "https://localhost:8080/"
        },
        "id": "n5yg_JNgy-Mj",
        "outputId": "de22340f-0b40-4109-bd91-ffbb263e73ff"
      },
      "outputs": [
        {
          "name": "stdout",
          "output_type": "stream",
          "text": [
            "Created new training data with 60000 samples.\n"
          ]
        }
      ],
      "source": [
        "# Preparation of new training data set by passing the 60000 images form the original dataset through the teacher model\n",
        "teacher_model.eval()\n",
        "new_train_data = []\n",
        "train_loader_for_distill = DataLoader(train_data, batch_size=64, shuffle=False)\n",
        "\n",
        "with torch.no_grad():\n",
        "    for images, labels in train_loader_for_distill:\n",
        "        images, labels = images.to(device), labels.to(device)\n",
        "        teacher_outputs = teacher_model(images)\n",
        "        # For each item in the batch, creating a tuple of (image, label, teacher_output)\n",
        "        for i in range(images.size(0)):\n",
        "            new_train_data.append((images[i].cpu(), labels[i].cpu(), teacher_outputs[i].cpu()))\n",
        "\n",
        "print(f\"Created new training data with {len(new_train_data)} samples.\")\n",
        "# The new_train_data is a list of tuples, which can be used to create a new DataLoader\n",
        "# for training the distilled student model."
      ]
    },
    {
      "cell_type": "code",
      "execution_count": null,
      "metadata": {
        "colab": {
          "base_uri": "https://localhost:8080/"
        },
        "id": "T0xsom5JydST",
        "outputId": "f079a7cb-b2e6-480a-add4-02f1eb888633"
      },
      "outputs": [
        {
          "name": "stdout",
          "output_type": "stream",
          "text": [
            "(tensor([[[-0.4242, -0.4242, -0.4242, -0.4242, -0.4242, -0.4242, -0.4242,\n",
            "          -0.4242, -0.4242, -0.4242, -0.4242, -0.4242, -0.4242, -0.4242,\n",
            "          -0.4242, -0.4242, -0.4242, -0.4242, -0.4242, -0.4242, -0.4242,\n",
            "          -0.4242, -0.4242, -0.4242, -0.4242, -0.4242, -0.4242, -0.4242],\n",
            "         [-0.4242, -0.4242, -0.4242, -0.4242, -0.4242, -0.4242, -0.4242,\n",
            "          -0.4242, -0.4242, -0.4242, -0.4242, -0.4242, -0.4242, -0.4242,\n",
            "          -0.4242, -0.4242, -0.4242, -0.4242, -0.4242, -0.4242, -0.4242,\n",
            "          -0.4242, -0.4242, -0.4242, -0.4242, -0.4242, -0.4242, -0.4242],\n",
            "         [-0.4242, -0.4242, -0.4242, -0.4242, -0.4242, -0.4242, -0.4242,\n",
            "          -0.4242, -0.4242, -0.4242, -0.4242, -0.4242, -0.4242, -0.4242,\n",
            "          -0.4242, -0.4242, -0.4242, -0.4242, -0.4242, -0.4242, -0.4242,\n",
            "          -0.4242, -0.4242, -0.4242, -0.4242, -0.4242, -0.4242, -0.4242],\n",
            "         [-0.4242, -0.4242, -0.4242, -0.4242, -0.4242, -0.4242, -0.4242,\n",
            "          -0.4242, -0.4242, -0.4242, -0.4242, -0.4242, -0.4242, -0.4242,\n",
            "          -0.4242, -0.4242, -0.4242, -0.4242, -0.4242, -0.4242, -0.4242,\n",
            "          -0.4242, -0.4242, -0.4242, -0.4242, -0.4242, -0.4242, -0.4242],\n",
            "         [-0.4242, -0.4242, -0.4242, -0.4242, -0.4242, -0.4242, -0.4242,\n",
            "          -0.4242, -0.4242, -0.4242, -0.4242, -0.4242, -0.4242, -0.4242,\n",
            "          -0.4242, -0.4242, -0.4242, -0.4242, -0.4242, -0.4242, -0.4242,\n",
            "          -0.4242, -0.4242, -0.4242, -0.4242, -0.4242, -0.4242, -0.4242],\n",
            "         [-0.4242, -0.4242, -0.4242, -0.4242, -0.4242, -0.4242, -0.4242,\n",
            "          -0.4242, -0.4242, -0.4242, -0.4242, -0.4242, -0.3860, -0.1951,\n",
            "          -0.1951, -0.1951,  1.1795,  1.3068,  1.8032, -0.0933,  1.6887,\n",
            "           2.8215,  2.7197,  1.1923, -0.4242, -0.4242, -0.4242, -0.4242],\n",
            "         [-0.4242, -0.4242, -0.4242, -0.4242, -0.4242, -0.4242, -0.4242,\n",
            "          -0.4242, -0.0424,  0.0340,  0.7722,  1.5359,  1.7396,  2.7960,\n",
            "           2.7960,  2.7960,  2.7960,  2.7960,  2.4396,  1.7650,  2.7960,\n",
            "           2.6560,  2.0578,  0.3904, -0.4242, -0.4242, -0.4242, -0.4242],\n",
            "         [-0.4242, -0.4242, -0.4242, -0.4242, -0.4242, -0.4242, -0.4242,\n",
            "           0.1995,  2.6051,  2.7960,  2.7960,  2.7960,  2.7960,  2.7960,\n",
            "           2.7960,  2.7960,  2.7960,  2.7706,  0.7595,  0.6195,  0.6195,\n",
            "           0.2886,  0.0722, -0.4242, -0.4242, -0.4242, -0.4242, -0.4242],\n",
            "         [-0.4242, -0.4242, -0.4242, -0.4242, -0.4242, -0.4242, -0.4242,\n",
            "          -0.1951,  2.3633,  2.7960,  2.7960,  2.7960,  2.7960,  2.7960,\n",
            "           2.0960,  1.8923,  2.7197,  2.6433, -0.4242, -0.4242, -0.4242,\n",
            "          -0.4242, -0.4242, -0.4242, -0.4242, -0.4242, -0.4242, -0.4242],\n",
            "         [-0.4242, -0.4242, -0.4242, -0.4242, -0.4242, -0.4242, -0.4242,\n",
            "          -0.4242,  0.5940,  1.5614,  0.9377,  2.7960,  2.7960,  2.1851,\n",
            "          -0.2842, -0.4242,  0.1231,  1.5359, -0.4242, -0.4242, -0.4242,\n",
            "          -0.4242, -0.4242, -0.4242, -0.4242, -0.4242, -0.4242, -0.4242],\n",
            "         [-0.4242, -0.4242, -0.4242, -0.4242, -0.4242, -0.4242, -0.4242,\n",
            "          -0.4242, -0.4242, -0.2460, -0.4115,  1.5359,  2.7960,  0.7213,\n",
            "          -0.4242, -0.4242, -0.4242, -0.4242, -0.4242, -0.4242, -0.4242,\n",
            "          -0.4242, -0.4242, -0.4242, -0.4242, -0.4242, -0.4242, -0.4242],\n",
            "         [-0.4242, -0.4242, -0.4242, -0.4242, -0.4242, -0.4242, -0.4242,\n",
            "          -0.4242, -0.4242, -0.4242, -0.4242,  1.3450,  2.7960,  1.9942,\n",
            "          -0.3988, -0.4242, -0.4242, -0.4242, -0.4242, -0.4242, -0.4242,\n",
            "          -0.4242, -0.4242, -0.4242, -0.4242, -0.4242, -0.4242, -0.4242],\n",
            "         [-0.4242, -0.4242, -0.4242, -0.4242, -0.4242, -0.4242, -0.4242,\n",
            "          -0.4242, -0.4242, -0.4242, -0.4242, -0.2842,  1.9942,  2.7960,\n",
            "           0.4668, -0.4242, -0.4242, -0.4242, -0.4242, -0.4242, -0.4242,\n",
            "          -0.4242, -0.4242, -0.4242, -0.4242, -0.4242, -0.4242, -0.4242],\n",
            "         [-0.4242, -0.4242, -0.4242, -0.4242, -0.4242, -0.4242, -0.4242,\n",
            "          -0.4242, -0.4242, -0.4242, -0.4242, -0.4242,  0.0213,  2.6433,\n",
            "           2.4396,  1.6123,  0.9504, -0.4115, -0.4242, -0.4242, -0.4242,\n",
            "          -0.4242, -0.4242, -0.4242, -0.4242, -0.4242, -0.4242, -0.4242],\n",
            "         [-0.4242, -0.4242, -0.4242, -0.4242, -0.4242, -0.4242, -0.4242,\n",
            "          -0.4242, -0.4242, -0.4242, -0.4242, -0.4242, -0.4242,  0.6068,\n",
            "           2.6306,  2.7960,  2.7960,  1.0904, -0.1060, -0.4242, -0.4242,\n",
            "          -0.4242, -0.4242, -0.4242, -0.4242, -0.4242, -0.4242, -0.4242],\n",
            "         [-0.4242, -0.4242, -0.4242, -0.4242, -0.4242, -0.4242, -0.4242,\n",
            "          -0.4242, -0.4242, -0.4242, -0.4242, -0.4242, -0.4242, -0.4242,\n",
            "           0.1486,  1.9432,  2.7960,  2.7960,  1.4850, -0.0806, -0.4242,\n",
            "          -0.4242, -0.4242, -0.4242, -0.4242, -0.4242, -0.4242, -0.4242],\n",
            "         [-0.4242, -0.4242, -0.4242, -0.4242, -0.4242, -0.4242, -0.4242,\n",
            "          -0.4242, -0.4242, -0.4242, -0.4242, -0.4242, -0.4242, -0.4242,\n",
            "          -0.4242, -0.2206,  0.7595,  2.7833,  2.7960,  1.9560, -0.4242,\n",
            "          -0.4242, -0.4242, -0.4242, -0.4242, -0.4242, -0.4242, -0.4242],\n",
            "         [-0.4242, -0.4242, -0.4242, -0.4242, -0.4242, -0.4242, -0.4242,\n",
            "          -0.4242, -0.4242, -0.4242, -0.4242, -0.4242, -0.4242, -0.4242,\n",
            "          -0.4242, -0.4242, -0.4242,  2.7451,  2.7960,  2.7451,  0.3904,\n",
            "          -0.4242, -0.4242, -0.4242, -0.4242, -0.4242, -0.4242, -0.4242],\n",
            "         [-0.4242, -0.4242, -0.4242, -0.4242, -0.4242, -0.4242, -0.4242,\n",
            "          -0.4242, -0.4242, -0.4242, -0.4242, -0.4242, -0.4242, -0.4242,\n",
            "           0.1613,  1.2305,  1.9051,  2.7960,  2.7960,  2.2105, -0.3988,\n",
            "          -0.4242, -0.4242, -0.4242, -0.4242, -0.4242, -0.4242, -0.4242],\n",
            "         [-0.4242, -0.4242, -0.4242, -0.4242, -0.4242, -0.4242, -0.4242,\n",
            "          -0.4242, -0.4242, -0.4242, -0.4242, -0.4242,  0.0722,  1.4596,\n",
            "           2.4906,  2.7960,  2.7960,  2.7960,  2.7578,  1.8923, -0.4242,\n",
            "          -0.4242, -0.4242, -0.4242, -0.4242, -0.4242, -0.4242, -0.4242],\n",
            "         [-0.4242, -0.4242, -0.4242, -0.4242, -0.4242, -0.4242, -0.4242,\n",
            "          -0.4242, -0.4242, -0.4242, -0.1187,  1.0268,  2.3887,  2.7960,\n",
            "           2.7960,  2.7960,  2.7960,  2.1342,  0.5686, -0.4242, -0.4242,\n",
            "          -0.4242, -0.4242, -0.4242, -0.4242, -0.4242, -0.4242, -0.4242],\n",
            "         [-0.4242, -0.4242, -0.4242, -0.4242, -0.4242, -0.4242, -0.4242,\n",
            "          -0.4242, -0.1315,  0.4159,  2.2869,  2.7960,  2.7960,  2.7960,\n",
            "           2.7960,  2.0960,  0.6068, -0.3988, -0.4242, -0.4242, -0.4242,\n",
            "          -0.4242, -0.4242, -0.4242, -0.4242, -0.4242, -0.4242, -0.4242],\n",
            "         [-0.4242, -0.4242, -0.4242, -0.4242, -0.4242, -0.4242, -0.1951,\n",
            "           1.7523,  2.3633,  2.7960,  2.7960,  2.7960,  2.7960,  2.0578,\n",
            "           0.5940, -0.3097, -0.4242, -0.4242, -0.4242, -0.4242, -0.4242,\n",
            "          -0.4242, -0.4242, -0.4242, -0.4242, -0.4242, -0.4242, -0.4242],\n",
            "         [-0.4242, -0.4242, -0.4242, -0.4242,  0.2758,  1.7650,  2.4524,\n",
            "           2.7960,  2.7960,  2.7960,  2.7960,  2.6815,  1.2686, -0.2842,\n",
            "          -0.4242, -0.4242, -0.4242, -0.4242, -0.4242, -0.4242, -0.4242,\n",
            "          -0.4242, -0.4242, -0.4242, -0.4242, -0.4242, -0.4242, -0.4242],\n",
            "         [-0.4242, -0.4242, -0.4242, -0.4242,  1.3068,  2.7960,  2.7960,\n",
            "           2.7960,  2.2742,  1.2941,  1.2559, -0.2206, -0.4242, -0.4242,\n",
            "          -0.4242, -0.4242, -0.4242, -0.4242, -0.4242, -0.4242, -0.4242,\n",
            "          -0.4242, -0.4242, -0.4242, -0.4242, -0.4242, -0.4242, -0.4242],\n",
            "         [-0.4242, -0.4242, -0.4242, -0.4242, -0.4242, -0.4242, -0.4242,\n",
            "          -0.4242, -0.4242, -0.4242, -0.4242, -0.4242, -0.4242, -0.4242,\n",
            "          -0.4242, -0.4242, -0.4242, -0.4242, -0.4242, -0.4242, -0.4242,\n",
            "          -0.4242, -0.4242, -0.4242, -0.4242, -0.4242, -0.4242, -0.4242],\n",
            "         [-0.4242, -0.4242, -0.4242, -0.4242, -0.4242, -0.4242, -0.4242,\n",
            "          -0.4242, -0.4242, -0.4242, -0.4242, -0.4242, -0.4242, -0.4242,\n",
            "          -0.4242, -0.4242, -0.4242, -0.4242, -0.4242, -0.4242, -0.4242,\n",
            "          -0.4242, -0.4242, -0.4242, -0.4242, -0.4242, -0.4242, -0.4242],\n",
            "         [-0.4242, -0.4242, -0.4242, -0.4242, -0.4242, -0.4242, -0.4242,\n",
            "          -0.4242, -0.4242, -0.4242, -0.4242, -0.4242, -0.4242, -0.4242,\n",
            "          -0.4242, -0.4242, -0.4242, -0.4242, -0.4242, -0.4242, -0.4242,\n",
            "          -0.4242, -0.4242, -0.4242, -0.4242, -0.4242, -0.4242, -0.4242]]]), tensor(5), tensor([-12.5130,  -0.3402,  -8.0598,   9.2439, -13.0959,  13.7385,  -6.8318,\n",
            "         -9.6043,  -3.5885,  -1.5941]))\n"
          ]
        }
      ],
      "source": [
        "# The new data has 3 parts , image tensor , label(true label),tecaher outputs which is a distribution between 0 to 9\n",
        "print(new_train_data[0])"
      ]
    },
    {
      "cell_type": "code",
      "execution_count": null,
      "metadata": {
        "id": "GfGZeAa2ydVL"
      },
      "outputs": [],
      "source": []
    },
    {
      "cell_type": "code",
      "execution_count": null,
      "metadata": {
        "id": "4deedafa"
      },
      "outputs": [],
      "source": [
        "# Setting up distill loss to be used with cross entropy loss\n",
        "def distill_loss(student_outputs, teacher_outputs, temperature, alpha):\n",
        "\n",
        "    # Soft targets from teacher\n",
        "    soft_teacher_targets = F.softmax(teacher_outputs / temperature, dim=1)\n",
        "    soft_student_outputs = F.log_softmax(student_outputs / temperature, dim=1)\n",
        "\n",
        "    # Soft target loss (KLD)\n",
        "    soft_loss = F.kl_div(soft_student_outputs, soft_teacher_targets, reduction='batchwise') * (temperature**2)\n",
        "\n",
        "    # Hard target loss (CrossEntropy)\n",
        "    # Note: We need the true labels for hard target loss.\n",
        "    # Assuming the data loader provides true labels.\n",
        "    # This part will be added in the training loop.\n",
        "    return soft_loss\n",
        "\n",
        "def train_distilled_student(student_model, new_train_data, criterion_hard, optimizer, epochs, temperature=2.0, alpha=0.5):\n",
        "    student_model.train()\n",
        "    # Create a DataLoader from the new_train_data\n",
        "    distill_train_loader = DataLoader(new_train_data, batch_size=64, shuffle=True)\n",
        "\n",
        "    for epoch in range(epochs):\n",
        "        total_loss = 0\n",
        "        for images, true_labels, teacher_outputs in distill_train_loader:\n",
        "            images, true_labels, teacher_outputs = images.to(device), true_labels.to(device), teacher_outputs.to(device)\n",
        "\n",
        "            optimizer.zero_grad()\n",
        "            student_outputs = student_model(images)\n",
        "\n",
        "            # Calculate soft target loss\n",
        "            soft_teacher_targets = F.softmax(teacher_outputs / temperature, dim=1)\n",
        "            soft_student_outputs = F.log_softmax(student_outputs / temperature, dim=1)\n",
        "            # kl_div stands for KL divergence which is measure of how one probability distribution diverges from a second, expected probability distribution.(Read below cell)\n",
        "            soft_loss = F.kl_div(soft_student_outputs, soft_teacher_targets, reduction='batchmean') * (temperature**2)\n",
        "\n",
        "\n",
        "            # Calculate hard target loss\n",
        "            hard_loss = criterion_hard(student_outputs, true_labels)\n",
        "\n",
        "            # Combine losses\n",
        "            loss = alpha * soft_loss + (1 - alpha) * hard_loss\n",
        "\n",
        "            loss.backward()\n",
        "            optimizer.step()\n",
        "            total_loss += loss.item()\n",
        "        print(f\"Epoch [{epoch+1}/{epochs}], Loss: {total_loss/len(distill_train_loader):.4f}\")"
      ]
    },
    {
      "cell_type": "markdown",
      "metadata": {
        "id": "wkg9CVR-kkgU"
      },
      "source": [
        "The Kullback-Leibler Divergence (also called relative entropy) is a measure of how one probability distribution diverges from a second, expected probability distribution."
      ]
    },
    {
      "cell_type": "code",
      "execution_count": null,
      "metadata": {
        "colab": {
          "base_uri": "https://localhost:8080/"
        },
        "id": "212c90f9",
        "outputId": "38a2b1ce-22fd-4d71-a197-00145cf60fe4"
      },
      "outputs": [
        {
          "name": "stdout",
          "output_type": "stream",
          "text": [
            "Epoch [1/1], Loss: 0.4169\n"
          ]
        }
      ],
      "source": [
        "# Training the distilled student net model with temperature 20 because original paper mentions 20 (Poor Memory lead remembering late hence in upper code it also has a value)\n",
        "distilled_student_model = Distilledstudentnet().to(device)\n",
        "criterion_hard = nn.CrossEntropyLoss() # Criterion for hard target loss\n",
        "optimizer = optim.Adam(distilled_student_model.parameters(), lr=0.001)\n",
        "\n",
        "train_distilled_student(distilled_student_model, new_train_data, criterion_hard, optimizer, epochs=1, temperature=20.0, alpha=0.5)"
      ]
    },
    {
      "cell_type": "code",
      "execution_count": null,
      "metadata": {
        "colab": {
          "base_uri": "https://localhost:8080/"
        },
        "id": "bc6a029e",
        "outputId": "975ba184-7ffa-4606-b604-d1d920abdb73"
      },
      "outputs": [
        {
          "name": "stdout",
          "output_type": "stream",
          "text": [
            "Accuracy of the model on the 10000 test images: 97.32 %\n"
          ]
        }
      ],
      "source": [
        "# Evaluating Distilled student net model\n",
        "distilled_student_accuracy = evaluate(distilled_student_model, test_data)"
      ]
    },
    {
      "cell_type": "code",
      "execution_count": null,
      "metadata": {
        "id": "WlcswXAhAFWG"
      },
      "outputs": [],
      "source": [
        "# Similar student net configuration to train only on teachers soft output i.e not taking in the loss for the hard targets\n",
        "class Distilledstudentnet1(nn.Module):\n",
        "    def __init__(self):\n",
        "        super(Distilledstudentnet1, self).__init__()\n",
        "        self.model = nn.Sequential(\n",
        "            nn.Linear(784, 800),\n",
        "            nn.ReLU(),\n",
        "            nn.Linear(800, 800),\n",
        "            nn.ReLU(),\n",
        "            nn.Linear(800, 10)\n",
        "        )\n",
        "\n",
        "    def forward(self, x):\n",
        "        x = x.view(x.size(0), -1)\n",
        "        return self.model(x)"
      ]
    },
    {
      "cell_type": "code",
      "execution_count": null,
      "metadata": {
        "id": "Qd09xGrU6PQr"
      },
      "outputs": [],
      "source": [
        "# Training loop to train student net without taking consideration of the loss of the hard targets\n",
        "def train_distilled_student1(student_model, new_train_data, optimizer, epochs, temperature=2.0):\n",
        "    student_model.train()\n",
        "    distill_train_loader = DataLoader(new_train_data, batch_size=64, shuffle=True)\n",
        "\n",
        "    for epoch in range(epochs):\n",
        "        total_loss = 0\n",
        "        for images, _, teacher_outputs in distill_train_loader:  # ignore true_labels\n",
        "            images, teacher_outputs = images.to(device), teacher_outputs.to(device)\n",
        "\n",
        "            optimizer.zero_grad()\n",
        "            student_outputs = student_model(images)\n",
        "\n",
        "            # Calculate soft target loss only\n",
        "            soft_teacher_targets = F.softmax(teacher_outputs / temperature, dim=1)\n",
        "            soft_student_outputs = F.log_softmax(student_outputs / temperature, dim=1)\n",
        "            loss = F.kl_div(soft_student_outputs, soft_teacher_targets, reduction='batchmean') * (temperature**2)\n",
        "\n",
        "            loss.backward()\n",
        "            optimizer.step()\n",
        "            total_loss += loss.item()\n",
        "        print(f\"Epoch [{epoch+1}/{epochs}], Loss: {total_loss/len(distill_train_loader):.4f}\")"
      ]
    },
    {
      "cell_type": "code",
      "execution_count": null,
      "metadata": {
        "colab": {
          "base_uri": "https://localhost:8080/"
        },
        "id": "zkX30kfY6PTM",
        "outputId": "819b1122-eda6-449b-99a8-9e2f941152d2"
      },
      "outputs": [
        {
          "name": "stdout",
          "output_type": "stream",
          "text": [
            "Epoch [1/1], Loss: 22.4724\n"
          ]
        }
      ],
      "source": [
        "# Training distilled student model with out taking loss of hard target ... thats why the crossentropy loss is not passed\n",
        "distilled_student_model1 = Distilledstudentnet1().to(device)\n",
        "# criterion_hard = nn.CrossEntropyLoss() # Criterion for hard target loss\n",
        "optimizer = optim.Adam(distilled_student_model.parameters(), lr=0.001)\n",
        "\n",
        "train_distilled_student1(distilled_student_model1, new_train_data, optimizer, epochs=1, temperature=20.0)"
      ]
    },
    {
      "cell_type": "code",
      "execution_count": null,
      "metadata": {
        "colab": {
          "base_uri": "https://localhost:8080/"
        },
        "id": "oILfjpkZ6PWV",
        "outputId": "356f97eb-f028-402f-ed5d-edc6feba4c43"
      },
      "outputs": [
        {
          "name": "stdout",
          "output_type": "stream",
          "text": [
            "Accuracy of the model on the 10000 test images: 11.05 %\n"
          ]
        }
      ],
      "source": [
        "# Evaluating the trained model and as you see it performs very badly which indicates how only soft targets cannnot teach a student model\n",
        "distilled_student_accuracy1 = evaluate(distilled_student_model1, test_data)"
      ]
    },
    {
      "cell_type": "code",
      "execution_count": null,
      "metadata": {
        "colab": {
          "base_uri": "https://localhost:8080/",
          "height": 532
        },
        "id": "ZanQ0BrJ6PZr",
        "outputId": "f76a5426-bb1a-431d-fbec-54df58f2f319"
      },
      "outputs": [
        {
          "data": {
            "image/png": "[encoded data removed]",
            "text/plain": [
              "<Figure size 1000x600 with 1 Axes>"
            ]
          },
          "metadata": {},
          "output_type": "display_data"
        }
      ],
      "source": [
        "# Bar graph to see the result of 4 models trained\n",
        "\n",
        "import matplotlib.pyplot as plt\n",
        "\n",
        "model_names = ['Teacher Net', 'Base Student Net', 'Distilled Student Net (alpha=0.7)', 'Distilled Student Net (soft loss only)']\n",
        "accuracies = [teacher_accuracy, base_student_accuracy, distilled_student_accuracy, distilled_student_accuracy1]\n",
        "\n",
        "plt.figure(figsize=(10, 6))\n",
        "plt.bar(model_names, accuracies, color=['blue', 'green', 'orange', 'red'])\n",
        "plt.ylabel('Accuracy (%)')\n",
        "plt.title('Model Accuracy Comparison')\n",
        "plt.ylim(0, 100)\n",
        "plt.xticks(rotation=45, ha='right')\n",
        "plt.tight_layout()\n",
        "plt.show()"
      ]
    },
    {
      "cell_type": "code",
      "execution_count": null,
      "metadata": {
        "colab": {
          "base_uri": "https://localhost:8080/",
          "height": 532
        },
        "id": "Gf7VLxyj6PfL",
        "outputId": "3f48ca28-72e9-44ea-876e-bc4e682cc82b"
      },
      "outputs": [
        {
          "data": {
            "image/png": "[encoded data removed]",
            "text/plain": [
              "<Figure size 1000x600 with 1 Axes>"
            ]
          },
          "metadata": {},
          "output_type": "display_data"
        }
      ],
      "source": [
        "# Realized as the diff between accuracy is very low , plotted the number of failed results in the test case for proper visualization\n",
        "\n",
        "model_names = ['Teacher Net', 'Base Student Net', 'Distilled Student Net (alpha=0.7)', 'Distilled Student Net (soft loss only)']\n",
        "accuracies = [teacher_accuracy, base_student_accuracy, distilled_student_accuracy, distilled_student_accuracy1]\n",
        "total_test_images = len(test_data)\n",
        "\n",
        "incorrect_predictions = [total_test_images * (100 - acc) / 100 for acc in accuracies]\n",
        "\n",
        "plt.figure(figsize=(10, 6))\n",
        "bars = plt.bar(model_names, incorrect_predictions, color=['blue', 'green', 'orange', 'red'])\n",
        "plt.ylabel('Number of Incorrect Predictions')\n",
        "plt.title('Model Incorrect Predictions Comparison')\n",
        "plt.xticks(rotation=45, ha='right')\n",
        "\n",
        "# Add count labels on top of bars\n",
        "for bar in bars:\n",
        "    yval = bar.get_height()\n",
        "    plt.text(bar.get_x() + bar.get_width()/2, yval + 5, int(yval), ha='center', va='bottom')\n",
        "\n",
        "plt.tight_layout()\n",
        "plt.show()"
      ]
    },
    {
      "cell_type": "markdown",
      "metadata": {
        "id": "sEyqR6hvzuJM"
      },
      "source": [
        "# Exp-2\n",
        "\n",
        " In this Experiment we take out a random image here label 3 , from both the original train data set and the data set which had image tensor, hard label and tecaher outputs. In the original paper they did the same to show case the fact that a student model can also learn about a mystic label given tecahers soft targets which has some information about the mystic label ...They i.e (*Hinton , Vinyals, Dean*) call this ***Dark knowledge*** which supposedly gets transferred while ***knowledge distillation***."
      ]
    },
    {
      "cell_type": "code",
      "execution_count": null,
      "metadata": {
        "id": "nZ6xZmIk6PiV"
      },
      "outputs": [],
      "source": [
        "# Distilled student net with the same configuration as earlier\n",
        "\n",
        "class Distilledstudentnet3(nn.Module):\n",
        "    def __init__(self):\n",
        "        super(Distilledstudentnet3, self).__init__()\n",
        "        self.model = nn.Sequential(\n",
        "            nn.Linear(784, 800),\n",
        "            nn.ReLU(),\n",
        "            nn.Linear(800, 800),\n",
        "            nn.ReLU(),\n",
        "            nn.Linear(800, 10)\n",
        "        )\n",
        "\n",
        "    def forward(self, x):\n",
        "        x = x.view(x.size(0), -1)\n",
        "        return self.model(x)"
      ]
    },
    {
      "cell_type": "code",
      "execution_count": null,
      "metadata": {
        "id": "fvT8ZRzw6Plt"
      },
      "outputs": [],
      "source": [
        "#Base student net with same configuration as earlier\n",
        "class Basestudentnet3(nn.Module):\n",
        "    def __init__(self):\n",
        "        super(Basestudentnet3, self).__init__()\n",
        "        self.model = nn.Sequential(\n",
        "            nn.Linear(784, 800),\n",
        "            nn.ReLU(),\n",
        "            nn.Linear(800, 800),\n",
        "            nn.ReLU(),\n",
        "            nn.Linear(800, 10)\n",
        "        )\n",
        "\n",
        "    def forward(self, x):\n",
        "        x = x.view(x.size(0), -1)\n",
        "        return self.model(x)"
      ]
    },
    {
      "cell_type": "code",
      "execution_count": null,
      "metadata": {
        "colab": {
          "base_uri": "https://localhost:8080/"
        },
        "id": "57171ad8",
        "outputId": "31564d60-4a05-42b6-97b9-3e8c53006175"
      },
      "outputs": [
        {
          "name": "stdout",
          "output_type": "stream",
          "text": [
            "Number of images with label '3' removed from train_data: 6131\n"
          ]
        }
      ],
      "source": [
        "# Creation of new data set from the original train data set with hard labels by removing label 3\n",
        "train_data_no_3 = []\n",
        "removed_count = 0\n",
        "for image, label in train_data:\n",
        "    if label != 3:\n",
        "        train_data_no_3.append((image, label))\n",
        "    else:\n",
        "        removed_count += 1\n",
        "\n",
        "print(f\"Number of images with label '3' removed from train_data: {removed_count}\")"
      ]
    },
    {
      "cell_type": "code",
      "execution_count": null,
      "metadata": {
        "colab": {
          "base_uri": "https://localhost:8080/"
        },
        "id": "e50fc2be",
        "outputId": "26358bdc-e7fa-4a46-9919-1b9785441c24"
      },
      "outputs": [
        {
          "name": "stdout",
          "output_type": "stream",
          "text": [
            "Number of images with label '3' removed from new_train_data: 6131\n"
          ]
        }
      ],
      "source": [
        "# New data set for distilled student net by removing label 3 from the dataset that was earlier used to train distill student net\n",
        "new_train_data_no_3 = []\n",
        "removed_count = 0\n",
        "for image, label, teacher_output in new_train_data:\n",
        "    if label != 3:\n",
        "        new_train_data_no_3.append((image, label, teacher_output))\n",
        "    else:\n",
        "        removed_count += 1\n",
        "\n",
        "print(f\"Number of images with label '3' removed from new_train_data: {removed_count}\")"
      ]
    },
    {
      "cell_type": "code",
      "execution_count": null,
      "metadata": {
        "colab": {
          "base_uri": "https://localhost:8080/"
        },
        "id": "a5739ad0",
        "outputId": "09cff1cc-06eb-4b54-9bab-6ac24b504620"
      },
      "outputs": [
        {
          "name": "stdout",
          "output_type": "stream",
          "text": [
            "Total number of '3' images in the test set: 1010\n"
          ]
        }
      ],
      "source": [
        "# Counting the number of label 3 in the test data set\n",
        "count_of_threes_test = 0\n",
        "for _, label in test_data:\n",
        "    if label == 3:\n",
        "        count_of_threes_test += 1\n",
        "\n",
        "print(f\"Total number of '3' images in the test set: {count_of_threes_test}\")"
      ]
    },
    {
      "cell_type": "code",
      "execution_count": null,
      "metadata": {
        "id": "ce98b739"
      },
      "outputs": [],
      "source": [
        "# Creation of Dataloader for both this new data\n",
        "train_loader_no_3 = DataLoader(train_data_no_3, batch_size=64, shuffle=True)\n",
        "distill_train_loader_no_3 = DataLoader(new_train_data_no_3, batch_size=64, shuffle=True)"
      ]
    },
    {
      "cell_type": "code",
      "execution_count": null,
      "metadata": {
        "colab": {
          "base_uri": "https://localhost:8080/"
        },
        "id": "f1b129ef",
        "outputId": "a8ff21f6-e178-400d-9c22-26b404ee57c1"
      },
      "outputs": [
        {
          "name": "stdout",
          "output_type": "stream",
          "text": [
            "Epoch [1/1], Loss: 0.1732\n"
          ]
        }
      ],
      "source": [
        "# Training base student model with the original train data with missing label 3\n",
        "base_student_model_no_3 = Basestudentnet3().to(device)\n",
        "criterion = nn.CrossEntropyLoss()\n",
        "optimizer = optim.Adam(base_student_model_no_3.parameters(), lr=0.001)\n",
        "train_teacher(base_student_model_no_3, train_loader_no_3, criterion, optimizer, epochs=1)"
      ]
    },
    {
      "cell_type": "code",
      "execution_count": null,
      "metadata": {
        "colab": {
          "base_uri": "https://localhost:8080/"
        },
        "id": "4808e8eb",
        "outputId": "4f2012b2-21a5-47d2-a3f7-a89785741798"
      },
      "outputs": [
        {
          "name": "stdout",
          "output_type": "stream",
          "text": [
            "Overall accuracy of Basestudentnet3 on the 10000 test images: 87.34 %\n",
            "Total number of \"3\" images in the test set: 1010\n",
            "Number of incorrect predictions for label \"3\" by Basestudentnet3: 1010\n"
          ]
        }
      ],
      "source": [
        "# Evaluating base student model trained above to see how many incorrect identifications it did for label 3 though it was not trained on label 3\n",
        "base_student_model_no_3.eval()\n",
        "test_loader = DataLoader(test_data, batch_size=1000, shuffle=False)\n",
        "correct = 0\n",
        "total = 0\n",
        "incorrect_threes = 0\n",
        "\n",
        "with torch.no_grad():\n",
        "    for images, labels in test_loader:\n",
        "        images, labels = images.to(device), labels.to(device)\n",
        "        outputs = base_student_model_no_3(images)\n",
        "        _, predicted = torch.max(outputs.data, 1)\n",
        "        total += labels.size(0)\n",
        "        correct += (predicted == labels).sum().item()\n",
        "\n",
        "        # Count incorrect predictions for label '3'\n",
        "        for i in range(labels.size(0)):\n",
        "            if labels[i] == 3 and predicted[i] != 3:\n",
        "                incorrect_threes += 1\n",
        "\n",
        "accuracy = 100 * correct / total\n",
        "print(f'Overall accuracy of Basestudentnet3 on the 10000 test images: {accuracy} %')\n",
        "print(f'Total number of \"3\" images in the test set: {count_of_threes_test}')\n",
        "print(f'Number of incorrect predictions for label \"3\" by Basestudentnet3: {incorrect_threes}')"
      ]
    },
    {
      "cell_type": "code",
      "execution_count": null,
      "metadata": {
        "colab": {
          "base_uri": "https://localhost:8080/"
        },
        "id": "ae42d7a8",
        "outputId": "0aeb5f2c-53a1-485f-8cf6-72eda63eb416"
      },
      "outputs": [
        {
          "name": "stdout",
          "output_type": "stream",
          "text": [
            "Epoch [1/1], Loss: 0.4106\n"
          ]
        }
      ],
      "source": [
        "# Training the distilled student net on the missing label 3 data with both hard targets and soft target from the teacher model which learnt from data having label 3\n",
        "distilled_student_model_no_3 = Distilledstudentnet3().to(device)\n",
        "criterion_hard = nn.CrossEntropyLoss()\n",
        "optimizer = optim.Adam(distilled_student_model_no_3.parameters(), lr=0.001)\n",
        "\n",
        "train_distilled_student(distilled_student_model_no_3, new_train_data_no_3, criterion_hard, optimizer, epochs=1, temperature=20.0, alpha=0.5)"
      ]
    },
    {
      "cell_type": "code",
      "execution_count": null,
      "metadata": {
        "colab": {
          "base_uri": "https://localhost:8080/"
        },
        "id": "e96bb67b",
        "outputId": "8d9e7c7d-7fb7-4c7a-cdaf-a28b1c46c64f"
      },
      "outputs": [
        {
          "name": "stdout",
          "output_type": "stream",
          "text": [
            "Overall accuracy of Distilledstudentnet3 on the 10000 test images: 95.7 %\n",
            "Total number of \"3\" images in the test set: 1010\n",
            "Number of incorrect predictions for label \"3\" by Distilledstudentnet3: 206\n"
          ]
        }
      ],
      "source": [
        "# Evaluating Distilled student model trained above to see how many incorrect identifications it did for label 3 though it was not trained on label 3\n",
        "distilled_student_model_no_3.eval()\n",
        "test_loader = DataLoader(test_data, batch_size=1000, shuffle=False)\n",
        "correct = 0\n",
        "total = 0\n",
        "incorrect_threes = 0\n",
        "\n",
        "with torch.no_grad():\n",
        "    for images, labels in test_loader:\n",
        "        images, labels = images.to(device), labels.to(device)\n",
        "        outputs = distilled_student_model_no_3(images)\n",
        "        _, predicted = torch.max(outputs.data, 1)\n",
        "        total += labels.size(0)\n",
        "        correct += (predicted == labels).sum().item()\n",
        "\n",
        "        # Count incorrect predictions for label '3'\n",
        "        for i in range(labels.size(0)):\n",
        "            if labels[i] == 3 and predicted[i] != 3:\n",
        "                incorrect_threes += 1\n",
        "\n",
        "accuracy = 100 * correct / total\n",
        "print(f'Overall accuracy of Distilledstudentnet3 on the 10000 test images: {accuracy} %')\n",
        "print(f'Total number of \"3\" images in the test set: {count_of_threes_test}')\n",
        "print(f'Number of incorrect predictions for label \"3\" by Distilledstudentnet3: {incorrect_threes}')"
      ]
    },
    {
      "cell_type": "markdown",
      "metadata": {
        "id": "NEdb3wBh2iaq"
      },
      "source": [
        "## As you can see above it only gave 206 times incorrect results for label 3 out of 1010 images that represented 3. Which is similar to what was the result shown in the orignal paper.\n",
        "## We see that the knowledge of identifying label 3 was passed to student model from the soft distributions of the teacher model output."
      ]
    },
    {
      "cell_type": "code",
      "execution_count": null,
      "metadata": {
        "id": "N4UW4GUpOZ_7"
      },
      "outputs": [],
      "source": []
    },
    {
      "cell_type": "code",
      "execution_count": null,
      "metadata": {
        "id": "2UQNFx6UOaDf"
      },
      "outputs": [],
      "source": []
    },
    {
      "cell_type": "code",
      "execution_count": null,
      "metadata": {
        "id": "R_Wg3Ew2OaPk"
      },
      "outputs": [],
      "source": []
    }
  ],
  "metadata": {
    "colab": {
      "provenance": []
    },
    "kernelspec": {
      "display_name": "Python 3",
      "name": "python3"
    },
    "language_info": {
      "name": "python"
    }
  },
  "nbformat": 4,
  "nbformat_minor": 0
}
